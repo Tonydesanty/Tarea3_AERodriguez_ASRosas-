{
 "cells": [
  {
   "cell_type": "markdown",
   "metadata": {},
   "source": [
    "# TAREA 3"
   ]
  },
  {
   "cell_type": "markdown",
   "metadata": {},
   "source": [
    "## Ana Esmeralda Rodríguez Rodríguez"
   ]
  },
  {
   "cell_type": "markdown",
   "metadata": {},
   "source": [
    "### Ejericio 1\n",
    "Resolver la siguiente ecuación recursiva usando funciones como se vió en clase  $D_{n}$ = (n-1)$D_{n-1}$ + (n-1)$D_{n-2}$    \n",
    "n>=3 con $D_{1}$ = 0 y $D_{2}$ = 1"
   ]
  },
  {
   "cell_type": "code",
   "execution_count": 1,
   "metadata": {},
   "outputs": [
    {
     "data": {
      "text/plain": [
       "array([  0.,   1.,   2.,   9.,  44., 265.])"
      ]
     },
     "execution_count": 1,
     "metadata": {},
     "output_type": "execute_result"
    }
   ],
   "source": [
    "def recursiva(n: \"Número de elementos tiene que ser mayor o igual a 3\"):\n",
    "    import numpy as np\n",
    "    D1=0 #primeros valores definidos en la ecacuión\n",
    "    D2=1\n",
    "    x=np.zeros(n) #vector del tamaño de valores que se quieren conocer\n",
    "    x[0], x[1]=D1, D2\n",
    "    def llenar_vector(i):\n",
    "        nonlocal x #permiso para editar variable local\n",
    "        x[i]=((i+1)-1)*x[i-1]+((i+1)-1)*x[i-2] #aplicar fórmula\n",
    "    [llenar_vector(i) for i in range(2,n)] #cilco que va recorriendo las posiciones de acuerdo a n\n",
    "    return x\n",
    "    \n",
    "recursiva(6)"
   ]
  },
  {
   "cell_type": "markdown",
   "metadata": {},
   "source": [
    "### Ejericio 2\n",
    "Count the number of spaces in the following string variable =  relaciónn  requiere,  para obtener  el  valor  de un  cierto  término,  el conocimiento de los dos anteriores."
   ]
  },
  {
   "cell_type": "code",
   "execution_count": 5,
   "metadata": {},
   "outputs": [
    {
     "data": {
      "text/plain": [
       "['el', 'de', 'un', 'el', 'de', 'los', 'dos']"
      ]
     },
     "execution_count": 5,
     "metadata": {},
     "output_type": "execute_result"
    }
   ],
   "source": [
    "frase = 'relaciónn  requiere,  para obtener  el  valor  de un  cierto  término,  el conocimiento de los dos anteriores.'\n",
    "frase\n",
    "blank_spaces=[i for i in frase if i==\" \"]\n",
    "no_spaces=len(blank_spaces)\n",
    "no_spaces\n",
    "list(filter(lambda x: len(x) < 4, frase.split()))"
   ]
  },
  {
   "cell_type": "markdown",
   "metadata": {},
   "source": [
    "### Ejericio 3\n",
    "Remove all of the vowels in a string [make a list of the non-vowels]."
   ]
  },
  {
   "cell_type": "code",
   "execution_count": null,
   "metadata": {},
   "outputs": [],
   "source": []
  },
  {
   "cell_type": "markdown",
   "metadata": {},
   "source": [
    "### Ejericio 4\n",
    "Find all of the words in a string that are less than 4 letters."
   ]
  },
  {
   "cell_type": "code",
   "execution_count": null,
   "metadata": {},
   "outputs": [],
   "source": []
  },
  {
   "cell_type": "markdown",
   "metadata": {},
   "source": [
    "### Ejericio 5\n",
    "Use a nested list comprehension to find all of the numbers from 1-1000 that are divisible by any single digit besides 1 (2-9)."
   ]
  },
  {
   "cell_type": "code",
   "execution_count": null,
   "metadata": {},
   "outputs": [],
   "source": []
  },
  {
   "cell_type": "markdown",
   "metadata": {},
   "source": [
    "## Antonio Rosas Saldaña"
   ]
  },
  {
   "cell_type": "markdown",
   "metadata": {},
   "source": [
    "### Ejericio 1\n",
    "Resolver la siguiente ecuación recursiva usando funciones como se vió en clase  $D_{n}$ = (n-1)$D_{n-1}$ + (n-1)$D_{n-2}$    \n",
    "n>=3 con $D_{1}$ = 0 y $D_{2}$ = 1"
   ]
  },
  {
   "cell_type": "code",
   "execution_count": 1,
   "metadata": {},
   "outputs": [
    {
     "name": "stdout",
     "output_type": "stream",
     "text": [
      "Los espacios en blanco son: 23\n"
     ]
    }
   ],
   "source": [
    "frase = 'relaciónn  requiere,  para obtener  el  valor  de un  cierto  término,  el conocimiento de los dos anteriores.'\n",
    "frase\n",
    "from collections import Counter\n",
    "def blank_counter (c: \"Aquí se van a contar los espacios en blanco\"):\n",
    "    k= Counter(c). get(' ')\n",
    "    return print(\"Los espacios en blanco son:\", k)\n",
    "blank_counter(frase)"
   ]
  },
  {
   "cell_type": "markdown",
   "metadata": {},
   "source": [
    "### Ejericio 2\n",
    "Count the number of spaces in the following string variable =  relaciónn  requiere,  para obtener  el  valor  de un  cierto  término,  el conocimiento de los dos anteriores."
   ]
  },
  {
   "cell_type": "code",
   "execution_count": 2,
   "metadata": {},
   "outputs": [
    {
     "name": "stdout",
     "output_type": "stream",
     "text": [
      "Los espacios en blanco son: 23\n"
     ]
    }
   ],
   "source": [
    "frase = 'relaciónn  requiere,  para obtener  el  valor  de un  cierto  término,  el conocimiento de los dos anteriores.'\n",
    "frase\n",
    "from collections import Counter\n",
    "def blank_counter (c: \"Aquí se van a contar los espacios en blanco\"):\n",
    "    k= Counter(c). get(' ')\n",
    "    return print(\"Los espacios en blanco son:\", k)\n",
    "blank_counter(frase)"
   ]
  },
  {
   "cell_type": "markdown",
   "metadata": {},
   "source": [
    "### Ejericio 3\n",
    "Remove all of the vowels in a string [make a list of the non-vowels]."
   ]
  },
  {
   "cell_type": "code",
   "execution_count": 3,
   "metadata": {},
   "outputs": [
    {
     "data": {
      "text/plain": [
       "['r',\n",
       " 'l',\n",
       " 'c',\n",
       " 'n',\n",
       " 'n',\n",
       " 'r',\n",
       " 'q',\n",
       " 'r',\n",
       " 'p',\n",
       " 'r',\n",
       " 'b',\n",
       " 't',\n",
       " 'n',\n",
       " 'r',\n",
       " 'l',\n",
       " 'v',\n",
       " 'l',\n",
       " 'r',\n",
       " 'd',\n",
       " 'n',\n",
       " 'c',\n",
       " 'r',\n",
       " 't',\n",
       " 't',\n",
       " 'r',\n",
       " 'm',\n",
       " 'n',\n",
       " 'l',\n",
       " 'c',\n",
       " 'n',\n",
       " 'c',\n",
       " 'm',\n",
       " 'n',\n",
       " 't',\n",
       " 'd',\n",
       " 'l',\n",
       " 's',\n",
       " 'd',\n",
       " 's',\n",
       " 'n',\n",
       " 't',\n",
       " 'r',\n",
       " 'r',\n",
       " 's']"
      ]
     },
     "execution_count": 3,
     "metadata": {},
     "output_type": "execute_result"
    }
   ],
   "source": [
    "consonantes = ('b','c','d','f','g','h','j','k','l','m','n','p','q','r','s','t','v','w','x','y','z')\n",
    "result= [i for i in frase if i  in consonantes]\n",
    "result\n"
   ]
  },
  {
   "cell_type": "markdown",
   "metadata": {},
   "source": [
    "### Ejericio 4\n",
    "Find all of the words in a string that are less than 4 letters."
   ]
  },
  {
   "cell_type": "code",
   "execution_count": 4,
   "metadata": {},
   "outputs": [
    {
     "data": {
      "text/plain": [
       "['el', 'de', 'un', 'el', 'de', 'los', 'dos']"
      ]
     },
     "execution_count": 4,
     "metadata": {},
     "output_type": "execute_result"
    }
   ],
   "source": [
    "def m_4 (m: \"Medición de palabras de menos de 4 letras\"):\n",
    "    x= list(filter((lambda x: len(x)<4),m.split()))\n",
    "    return x\n",
    "m_4(frase)"
   ]
  },
  {
   "cell_type": "markdown",
   "metadata": {},
   "source": [
    "### Ejericio 5\n",
    "Use a nested list comprehension to find all of the numbers from 1-1000 that are divisible by any single digit besides 1 (2-9)."
   ]
  },
  {
   "cell_type": "code",
   "execution_count": 5,
   "metadata": {},
   "outputs": [
    {
     "data": {
      "text/plain": [
       "{'relaciónn': 9,\n",
       " 'requiere,': 9,\n",
       " 'para': 4,\n",
       " 'obtener': 7,\n",
       " 'el': 2,\n",
       " 'valor': 5,\n",
       " 'de': 2,\n",
       " 'un': 2,\n",
       " 'cierto': 6,\n",
       " 'término,': 8,\n",
       " 'conocimiento': 12,\n",
       " 'los': 3,\n",
       " 'dos': 3,\n",
       " 'anteriores.': 11}"
      ]
     },
     "execution_count": 5,
     "metadata": {},
     "output_type": "execute_result"
    }
   ],
   "source": [
    "def dicc_palabra ( d: \"Aquí se van a contar la longitud de las palabras dentro de una oración\"):\n",
    "    x={palabra: len(palabra) for palabra in d.split()}\n",
    "    return x\n",
    "dicc_palabra(frase)"
   ]
  }
 ],
 "metadata": {
  "kernelspec": {
   "display_name": "Python 3",
   "language": "python",
   "name": "python3"
  },
  "language_info": {
   "codemirror_mode": {
    "name": "ipython",
    "version": 3
   },
   "file_extension": ".py",
   "mimetype": "text/x-python",
   "name": "python",
   "nbconvert_exporter": "python",
   "pygments_lexer": "ipython3",
   "version": "3.8.5"
  }
 },
 "nbformat": 4,
 "nbformat_minor": 2
}
